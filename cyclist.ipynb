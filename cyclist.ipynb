{
  "nbformat": 4,
  "nbformat_minor": 0,
  "metadata": {
    "colab": {
      "provenance": [],
      "mount_file_id": "1zGWvVnB53NVj3_g8FK_yt1AqwaV2XQHJ",
      "authorship_tag": "ABX9TyP1WsSG2hDbbPSrwgdB+qzU",
      "include_colab_link": true
    },
    "kernelspec": {
      "name": "python3",
      "display_name": "Python 3"
    },
    "language_info": {
      "name": "python"
    }
  },
  "cells": [
    {
      "cell_type": "markdown",
      "metadata": {
        "id": "view-in-github",
        "colab_type": "text"
      },
      "source": [
        "<a href=\"https://colab.research.google.com/github/harshv34/data_analytics/blob/main/cyclist.ipynb\" target=\"_parent\"><img src=\"https://colab.research.google.com/assets/colab-badge.svg\" alt=\"Open In Colab\"/></a>"
      ]
    },
    {
      "cell_type": "markdown",
      "source": [
        "Project goal\n",
        "\n",
        "1. How do annual members and casual riders use Cyclistic bikes differently?\n",
        "                   \n",
        "\n",
        "Data source:\n",
        "https://divvy-tripdata.s3.amazonaws.com/index.html\n",
        "\n",
        "\n",
        "Documentation of any cleaning or manipulation of data\n",
        "**Excel**\n",
        "\n",
        "1.   Adding columns \n",
        "      Start_time\n",
        "      End_Time\n",
        "      Trip_Duration\n",
        "      Day\n",
        "2.   Start_time and End_time column stores the trip start and end time.\n",
        "3.   Trip_Duration column is populated with the difference between the Start_time and End_time.\n",
        "4.   The Day column is populated with weekdays using  WEEKDAY() function.\n",
        "5.   Saved different files in one excel workbook.\n"
      ],
      "metadata": {
        "id": "ZEzPWgIY9QgF"
      }
    },
    {
      "cell_type": "markdown",
      "source": [
        "Using python for cleaning the data and visulization\n",
        "\n",
        "Importing libraries."
      ],
      "metadata": {
        "id": "ceaSHqAJDjSw"
      }
    },
    {
      "cell_type": "code",
      "execution_count": null,
      "metadata": {
        "id": "nX3SB38ODfVq"
      },
      "outputs": [],
      "source": [
        "import numpy as np\n",
        "import pandas as pd\n",
        "import matplotlib.pyplot as plt\n",
        "import seaborn as sb\n",
        "from matplotlib.ticker import NullFormatter"
      ]
    },
    {
      "cell_type": "markdown",
      "source": [
        "Libraries for importing file from google drive."
      ],
      "metadata": {
        "id": "uqbkRutgE8NT"
      }
    },
    {
      "cell_type": "code",
      "source": [
        "from pydrive.auth import GoogleAuth\n",
        "from google.colab import drive\n",
        "from pydrive.drive import GoogleDrive\n",
        "from google.colab import auth\n",
        "from oauth2client.client import GoogleCredentials"
      ],
      "metadata": {
        "id": "MIp54fX_Km5t"
      },
      "execution_count": null,
      "outputs": []
    },
    {
      "cell_type": "code",
      "source": [
        "#connecting to google drive\n",
        "auth.authenticate_user()\n",
        "gauth = GoogleAuth()\n",
        "gauth.credentials = GoogleCredentials.get_application_default()\n",
        "drive = GoogleDrive(gauth)\n",
        "\n",
        "#file_id = 'https://docs.google.com/spreadsheets/d/1HjKz-lFVS35KpCoXTPGg4hRHSIXlDBhi/edit?usp=share_link&ouid=110390729894590230446&rtpof=true&sd=true' \n",
        "\n",
        "file_id = 'https://docs.google.com/spreadsheets/d/18tc25n1VT6TxhG1OFrnNRKuFMPZszVGT/edit?usp=share_link&ouid=110390729894590230446&rtpof=true&sd=true'\n",
        "download = drive.CreateFile({'id': file_id})\n",
        "\n",
        "\n",
        "#reading file to dataset and merging all the excel file to create one dataset.\n",
        "#df = pd.concat(pd.read_excel(\"/content/drive/MyDrive/cyclist_dataset/cyclist_cleaned data.xlsx\", sheet_name=None), ignore_index=True)\n",
        "df = pd.read_csv(\"/content/drive/MyDrive/cyclist_dataset/cyclist_merged_data.xlsx\")\n",
        "df.head()"
      ],
      "metadata": {
        "colab": {
          "base_uri": "https://localhost:8080/",
          "height": 478
        },
        "id": "ax753ODcKq32",
        "outputId": "b41be59f-2a6d-4e35-ac07-b3ec972928d1"
      },
      "execution_count": null,
      "outputs": [
        {
          "output_type": "stream",
          "name": "stderr",
          "text": [
            "/usr/local/lib/python3.8/dist-packages/IPython/core/interactiveshell.py:3326: DtypeWarning: Columns (0,5,7,17) have mixed types.Specify dtype option on import or set low_memory=False.\n",
            "  exec(code_obj, self.user_global_ns, self.user_ns)\n"
          ]
        },
        {
          "output_type": "execute_result",
          "data": {
            "text/plain": [
              "            ride_id  rideable_type           started_at             ended_at  \\\n",
              "0  F96D5A74A3E41399  electric_bike  2023-01-21 20:05:42  2023-01-21 20:16:33   \n",
              "1  13CB7EB698CEDB88   classic_bike  2023-01-10 15:37:36  2023-01-10 15:46:05   \n",
              "2  BD88A2E670661CE5  electric_bike  2023-01-02 07:51:57  2023-01-02 08:05:11   \n",
              "3  C90792D034FED968   classic_bike  2023-01-22 10:52:58  2023-01-22 11:01:44   \n",
              "4  3397017529188E8A   classic_bike  2023-01-12 13:58:01  2023-01-12 14:13:20   \n",
              "\n",
              "            start_station_name start_station_id  \\\n",
              "0  Lincoln Ave & Fullerton Ave     TA1309000058   \n",
              "1        Kimbark Ave & 53rd St     TA1309000037   \n",
              "2       Western Ave & Lunt Ave           RP-005   \n",
              "3        Kimbark Ave & 53rd St     TA1309000037   \n",
              "4        Kimbark Ave & 53rd St     TA1309000037   \n",
              "\n",
              "                 end_station_name end_station_id  start_lat  start_lng  \\\n",
              "0       Hampden Ct & Diversey Ave       202480.0  41.924074 -87.646278   \n",
              "1         Greenwood Ave & 47th St   TA1308000002  41.799568 -87.594747   \n",
              "2  Valli Produce - Evanston Plaza            599  42.008571 -87.690483   \n",
              "3         Greenwood Ave & 47th St   TA1308000002  41.799568 -87.594747   \n",
              "4         Greenwood Ave & 47th St   TA1308000002  41.799568 -87.594747   \n",
              "\n",
              "     end_lat    end_lng member_casual           Start_time  \\\n",
              "0  41.930000 -87.640000        member  2023-01-21 20:05:42   \n",
              "1  41.809835 -87.599383        member  2023-01-10 15:37:36   \n",
              "2  42.039742 -87.699413        casual  2023-01-02 07:51:57   \n",
              "3  41.809835 -87.599383        member  2023-01-22 10:52:58   \n",
              "4  41.809835 -87.599383        member  2023-01-12 13:58:01   \n",
              "\n",
              "              End_Time Trip_Duration  Day Column1  \n",
              "0  2023-01-21 20:16:33      00:10:51  7.0     NaN  \n",
              "1  2023-01-10 15:46:05      00:08:29  3.0     NaN  \n",
              "2  2023-01-02 08:05:11      00:13:14  2.0     NaN  \n",
              "3  2023-01-22 11:01:44      00:08:46  1.0     NaN  \n",
              "4  2023-01-12 14:13:20      00:15:19  5.0     NaN  "
            ],
            "text/html": [
              "\n",
              "  <div id=\"df-c26a465a-358f-4fde-a1f1-b7eb68911774\">\n",
              "    <div class=\"colab-df-container\">\n",
              "      <div>\n",
              "<style scoped>\n",
              "    .dataframe tbody tr th:only-of-type {\n",
              "        vertical-align: middle;\n",
              "    }\n",
              "\n",
              "    .dataframe tbody tr th {\n",
              "        vertical-align: top;\n",
              "    }\n",
              "\n",
              "    .dataframe thead th {\n",
              "        text-align: right;\n",
              "    }\n",
              "</style>\n",
              "<table border=\"1\" class=\"dataframe\">\n",
              "  <thead>\n",
              "    <tr style=\"text-align: right;\">\n",
              "      <th></th>\n",
              "      <th>ride_id</th>\n",
              "      <th>rideable_type</th>\n",
              "      <th>started_at</th>\n",
              "      <th>ended_at</th>\n",
              "      <th>start_station_name</th>\n",
              "      <th>start_station_id</th>\n",
              "      <th>end_station_name</th>\n",
              "      <th>end_station_id</th>\n",
              "      <th>start_lat</th>\n",
              "      <th>start_lng</th>\n",
              "      <th>end_lat</th>\n",
              "      <th>end_lng</th>\n",
              "      <th>member_casual</th>\n",
              "      <th>Start_time</th>\n",
              "      <th>End_Time</th>\n",
              "      <th>Trip_Duration</th>\n",
              "      <th>Day</th>\n",
              "      <th>Column1</th>\n",
              "    </tr>\n",
              "  </thead>\n",
              "  <tbody>\n",
              "    <tr>\n",
              "      <th>0</th>\n",
              "      <td>F96D5A74A3E41399</td>\n",
              "      <td>electric_bike</td>\n",
              "      <td>2023-01-21 20:05:42</td>\n",
              "      <td>2023-01-21 20:16:33</td>\n",
              "      <td>Lincoln Ave &amp; Fullerton Ave</td>\n",
              "      <td>TA1309000058</td>\n",
              "      <td>Hampden Ct &amp; Diversey Ave</td>\n",
              "      <td>202480.0</td>\n",
              "      <td>41.924074</td>\n",
              "      <td>-87.646278</td>\n",
              "      <td>41.930000</td>\n",
              "      <td>-87.640000</td>\n",
              "      <td>member</td>\n",
              "      <td>2023-01-21 20:05:42</td>\n",
              "      <td>2023-01-21 20:16:33</td>\n",
              "      <td>00:10:51</td>\n",
              "      <td>7.0</td>\n",
              "      <td>NaN</td>\n",
              "    </tr>\n",
              "    <tr>\n",
              "      <th>1</th>\n",
              "      <td>13CB7EB698CEDB88</td>\n",
              "      <td>classic_bike</td>\n",
              "      <td>2023-01-10 15:37:36</td>\n",
              "      <td>2023-01-10 15:46:05</td>\n",
              "      <td>Kimbark Ave &amp; 53rd St</td>\n",
              "      <td>TA1309000037</td>\n",
              "      <td>Greenwood Ave &amp; 47th St</td>\n",
              "      <td>TA1308000002</td>\n",
              "      <td>41.799568</td>\n",
              "      <td>-87.594747</td>\n",
              "      <td>41.809835</td>\n",
              "      <td>-87.599383</td>\n",
              "      <td>member</td>\n",
              "      <td>2023-01-10 15:37:36</td>\n",
              "      <td>2023-01-10 15:46:05</td>\n",
              "      <td>00:08:29</td>\n",
              "      <td>3.0</td>\n",
              "      <td>NaN</td>\n",
              "    </tr>\n",
              "    <tr>\n",
              "      <th>2</th>\n",
              "      <td>BD88A2E670661CE5</td>\n",
              "      <td>electric_bike</td>\n",
              "      <td>2023-01-02 07:51:57</td>\n",
              "      <td>2023-01-02 08:05:11</td>\n",
              "      <td>Western Ave &amp; Lunt Ave</td>\n",
              "      <td>RP-005</td>\n",
              "      <td>Valli Produce - Evanston Plaza</td>\n",
              "      <td>599</td>\n",
              "      <td>42.008571</td>\n",
              "      <td>-87.690483</td>\n",
              "      <td>42.039742</td>\n",
              "      <td>-87.699413</td>\n",
              "      <td>casual</td>\n",
              "      <td>2023-01-02 07:51:57</td>\n",
              "      <td>2023-01-02 08:05:11</td>\n",
              "      <td>00:13:14</td>\n",
              "      <td>2.0</td>\n",
              "      <td>NaN</td>\n",
              "    </tr>\n",
              "    <tr>\n",
              "      <th>3</th>\n",
              "      <td>C90792D034FED968</td>\n",
              "      <td>classic_bike</td>\n",
              "      <td>2023-01-22 10:52:58</td>\n",
              "      <td>2023-01-22 11:01:44</td>\n",
              "      <td>Kimbark Ave &amp; 53rd St</td>\n",
              "      <td>TA1309000037</td>\n",
              "      <td>Greenwood Ave &amp; 47th St</td>\n",
              "      <td>TA1308000002</td>\n",
              "      <td>41.799568</td>\n",
              "      <td>-87.594747</td>\n",
              "      <td>41.809835</td>\n",
              "      <td>-87.599383</td>\n",
              "      <td>member</td>\n",
              "      <td>2023-01-22 10:52:58</td>\n",
              "      <td>2023-01-22 11:01:44</td>\n",
              "      <td>00:08:46</td>\n",
              "      <td>1.0</td>\n",
              "      <td>NaN</td>\n",
              "    </tr>\n",
              "    <tr>\n",
              "      <th>4</th>\n",
              "      <td>3397017529188E8A</td>\n",
              "      <td>classic_bike</td>\n",
              "      <td>2023-01-12 13:58:01</td>\n",
              "      <td>2023-01-12 14:13:20</td>\n",
              "      <td>Kimbark Ave &amp; 53rd St</td>\n",
              "      <td>TA1309000037</td>\n",
              "      <td>Greenwood Ave &amp; 47th St</td>\n",
              "      <td>TA1308000002</td>\n",
              "      <td>41.799568</td>\n",
              "      <td>-87.594747</td>\n",
              "      <td>41.809835</td>\n",
              "      <td>-87.599383</td>\n",
              "      <td>member</td>\n",
              "      <td>2023-01-12 13:58:01</td>\n",
              "      <td>2023-01-12 14:13:20</td>\n",
              "      <td>00:15:19</td>\n",
              "      <td>5.0</td>\n",
              "      <td>NaN</td>\n",
              "    </tr>\n",
              "  </tbody>\n",
              "</table>\n",
              "</div>\n",
              "      <button class=\"colab-df-convert\" onclick=\"convertToInteractive('df-c26a465a-358f-4fde-a1f1-b7eb68911774')\"\n",
              "              title=\"Convert this dataframe to an interactive table.\"\n",
              "              style=\"display:none;\">\n",
              "        \n",
              "  <svg xmlns=\"http://www.w3.org/2000/svg\" height=\"24px\"viewBox=\"0 0 24 24\"\n",
              "       width=\"24px\">\n",
              "    <path d=\"M0 0h24v24H0V0z\" fill=\"none\"/>\n",
              "    <path d=\"M18.56 5.44l.94 2.06.94-2.06 2.06-.94-2.06-.94-.94-2.06-.94 2.06-2.06.94zm-11 1L8.5 8.5l.94-2.06 2.06-.94-2.06-.94L8.5 2.5l-.94 2.06-2.06.94zm10 10l.94 2.06.94-2.06 2.06-.94-2.06-.94-.94-2.06-.94 2.06-2.06.94z\"/><path d=\"M17.41 7.96l-1.37-1.37c-.4-.4-.92-.59-1.43-.59-.52 0-1.04.2-1.43.59L10.3 9.45l-7.72 7.72c-.78.78-.78 2.05 0 2.83L4 21.41c.39.39.9.59 1.41.59.51 0 1.02-.2 1.41-.59l7.78-7.78 2.81-2.81c.8-.78.8-2.07 0-2.86zM5.41 20L4 18.59l7.72-7.72 1.47 1.35L5.41 20z\"/>\n",
              "  </svg>\n",
              "      </button>\n",
              "      \n",
              "  <style>\n",
              "    .colab-df-container {\n",
              "      display:flex;\n",
              "      flex-wrap:wrap;\n",
              "      gap: 12px;\n",
              "    }\n",
              "\n",
              "    .colab-df-convert {\n",
              "      background-color: #E8F0FE;\n",
              "      border: none;\n",
              "      border-radius: 50%;\n",
              "      cursor: pointer;\n",
              "      display: none;\n",
              "      fill: #1967D2;\n",
              "      height: 32px;\n",
              "      padding: 0 0 0 0;\n",
              "      width: 32px;\n",
              "    }\n",
              "\n",
              "    .colab-df-convert:hover {\n",
              "      background-color: #E2EBFA;\n",
              "      box-shadow: 0px 1px 2px rgba(60, 64, 67, 0.3), 0px 1px 3px 1px rgba(60, 64, 67, 0.15);\n",
              "      fill: #174EA6;\n",
              "    }\n",
              "\n",
              "    [theme=dark] .colab-df-convert {\n",
              "      background-color: #3B4455;\n",
              "      fill: #D2E3FC;\n",
              "    }\n",
              "\n",
              "    [theme=dark] .colab-df-convert:hover {\n",
              "      background-color: #434B5C;\n",
              "      box-shadow: 0px 1px 3px 1px rgba(0, 0, 0, 0.15);\n",
              "      filter: drop-shadow(0px 1px 2px rgba(0, 0, 0, 0.3));\n",
              "      fill: #FFFFFF;\n",
              "    }\n",
              "  </style>\n",
              "\n",
              "      <script>\n",
              "        const buttonEl =\n",
              "          document.querySelector('#df-c26a465a-358f-4fde-a1f1-b7eb68911774 button.colab-df-convert');\n",
              "        buttonEl.style.display =\n",
              "          google.colab.kernel.accessAllowed ? 'block' : 'none';\n",
              "\n",
              "        async function convertToInteractive(key) {\n",
              "          const element = document.querySelector('#df-c26a465a-358f-4fde-a1f1-b7eb68911774');\n",
              "          const dataTable =\n",
              "            await google.colab.kernel.invokeFunction('convertToInteractive',\n",
              "                                                     [key], {});\n",
              "          if (!dataTable) return;\n",
              "\n",
              "          const docLinkHtml = 'Like what you see? Visit the ' +\n",
              "            '<a target=\"_blank\" href=https://colab.research.google.com/notebooks/data_table.ipynb>data table notebook</a>'\n",
              "            + ' to learn more about interactive tables.';\n",
              "          element.innerHTML = '';\n",
              "          dataTable['output_type'] = 'display_data';\n",
              "          await google.colab.output.renderOutput(dataTable, element);\n",
              "          const docLink = document.createElement('div');\n",
              "          docLink.innerHTML = docLinkHtml;\n",
              "          element.appendChild(docLink);\n",
              "        }\n",
              "      </script>\n",
              "    </div>\n",
              "  </div>\n",
              "  "
            ]
          },
          "metadata": {},
          "execution_count": 3
        }
      ]
    },
    {
      "cell_type": "code",
      "source": [
        "#Saving merged data to a file\n",
        "#df.to_csv(r'/content/drive/MyDrive/cyclist_dataset/cyclist_merged_data.xlsx', index=False)\n"
      ],
      "metadata": {
        "id": "SVMYujetUXgb"
      },
      "execution_count": null,
      "outputs": []
    },
    {
      "cell_type": "code",
      "source": [
        "#removing column with null values\n",
        "df = df.drop(['Column1'],axis=1)\n",
        "df.head()"
      ],
      "metadata": {
        "colab": {
          "base_uri": "https://localhost:8080/",
          "height": 443
        },
        "id": "W76a8geSP3lB",
        "outputId": "c5263cd1-f677-4d77-ad9a-9a54d5338103"
      },
      "execution_count": null,
      "outputs": [
        {
          "output_type": "execute_result",
          "data": {
            "text/plain": [
              "            ride_id  rideable_type           started_at             ended_at  \\\n",
              "0  F96D5A74A3E41399  electric_bike  2023-01-21 20:05:42  2023-01-21 20:16:33   \n",
              "1  13CB7EB698CEDB88   classic_bike  2023-01-10 15:37:36  2023-01-10 15:46:05   \n",
              "2  BD88A2E670661CE5  electric_bike  2023-01-02 07:51:57  2023-01-02 08:05:11   \n",
              "3  C90792D034FED968   classic_bike  2023-01-22 10:52:58  2023-01-22 11:01:44   \n",
              "4  3397017529188E8A   classic_bike  2023-01-12 13:58:01  2023-01-12 14:13:20   \n",
              "\n",
              "            start_station_name start_station_id  \\\n",
              "0  Lincoln Ave & Fullerton Ave     TA1309000058   \n",
              "1        Kimbark Ave & 53rd St     TA1309000037   \n",
              "2       Western Ave & Lunt Ave           RP-005   \n",
              "3        Kimbark Ave & 53rd St     TA1309000037   \n",
              "4        Kimbark Ave & 53rd St     TA1309000037   \n",
              "\n",
              "                 end_station_name end_station_id  start_lat  start_lng  \\\n",
              "0       Hampden Ct & Diversey Ave       202480.0  41.924074 -87.646278   \n",
              "1         Greenwood Ave & 47th St   TA1308000002  41.799568 -87.594747   \n",
              "2  Valli Produce - Evanston Plaza            599  42.008571 -87.690483   \n",
              "3         Greenwood Ave & 47th St   TA1308000002  41.799568 -87.594747   \n",
              "4         Greenwood Ave & 47th St   TA1308000002  41.799568 -87.594747   \n",
              "\n",
              "     end_lat    end_lng member_casual           Start_time  \\\n",
              "0  41.930000 -87.640000        member  2023-01-21 20:05:42   \n",
              "1  41.809835 -87.599383        member  2023-01-10 15:37:36   \n",
              "2  42.039742 -87.699413        casual  2023-01-02 07:51:57   \n",
              "3  41.809835 -87.599383        member  2023-01-22 10:52:58   \n",
              "4  41.809835 -87.599383        member  2023-01-12 13:58:01   \n",
              "\n",
              "              End_Time Trip_Duration  Day  \n",
              "0  2023-01-21 20:16:33      00:10:51  7.0  \n",
              "1  2023-01-10 15:46:05      00:08:29  3.0  \n",
              "2  2023-01-02 08:05:11      00:13:14  2.0  \n",
              "3  2023-01-22 11:01:44      00:08:46  1.0  \n",
              "4  2023-01-12 14:13:20      00:15:19  5.0  "
            ],
            "text/html": [
              "\n",
              "  <div id=\"df-cd617476-6689-45b2-9f05-252b52877c10\">\n",
              "    <div class=\"colab-df-container\">\n",
              "      <div>\n",
              "<style scoped>\n",
              "    .dataframe tbody tr th:only-of-type {\n",
              "        vertical-align: middle;\n",
              "    }\n",
              "\n",
              "    .dataframe tbody tr th {\n",
              "        vertical-align: top;\n",
              "    }\n",
              "\n",
              "    .dataframe thead th {\n",
              "        text-align: right;\n",
              "    }\n",
              "</style>\n",
              "<table border=\"1\" class=\"dataframe\">\n",
              "  <thead>\n",
              "    <tr style=\"text-align: right;\">\n",
              "      <th></th>\n",
              "      <th>ride_id</th>\n",
              "      <th>rideable_type</th>\n",
              "      <th>started_at</th>\n",
              "      <th>ended_at</th>\n",
              "      <th>start_station_name</th>\n",
              "      <th>start_station_id</th>\n",
              "      <th>end_station_name</th>\n",
              "      <th>end_station_id</th>\n",
              "      <th>start_lat</th>\n",
              "      <th>start_lng</th>\n",
              "      <th>end_lat</th>\n",
              "      <th>end_lng</th>\n",
              "      <th>member_casual</th>\n",
              "      <th>Start_time</th>\n",
              "      <th>End_Time</th>\n",
              "      <th>Trip_Duration</th>\n",
              "      <th>Day</th>\n",
              "    </tr>\n",
              "  </thead>\n",
              "  <tbody>\n",
              "    <tr>\n",
              "      <th>0</th>\n",
              "      <td>F96D5A74A3E41399</td>\n",
              "      <td>electric_bike</td>\n",
              "      <td>2023-01-21 20:05:42</td>\n",
              "      <td>2023-01-21 20:16:33</td>\n",
              "      <td>Lincoln Ave &amp; Fullerton Ave</td>\n",
              "      <td>TA1309000058</td>\n",
              "      <td>Hampden Ct &amp; Diversey Ave</td>\n",
              "      <td>202480.0</td>\n",
              "      <td>41.924074</td>\n",
              "      <td>-87.646278</td>\n",
              "      <td>41.930000</td>\n",
              "      <td>-87.640000</td>\n",
              "      <td>member</td>\n",
              "      <td>2023-01-21 20:05:42</td>\n",
              "      <td>2023-01-21 20:16:33</td>\n",
              "      <td>00:10:51</td>\n",
              "      <td>7.0</td>\n",
              "    </tr>\n",
              "    <tr>\n",
              "      <th>1</th>\n",
              "      <td>13CB7EB698CEDB88</td>\n",
              "      <td>classic_bike</td>\n",
              "      <td>2023-01-10 15:37:36</td>\n",
              "      <td>2023-01-10 15:46:05</td>\n",
              "      <td>Kimbark Ave &amp; 53rd St</td>\n",
              "      <td>TA1309000037</td>\n",
              "      <td>Greenwood Ave &amp; 47th St</td>\n",
              "      <td>TA1308000002</td>\n",
              "      <td>41.799568</td>\n",
              "      <td>-87.594747</td>\n",
              "      <td>41.809835</td>\n",
              "      <td>-87.599383</td>\n",
              "      <td>member</td>\n",
              "      <td>2023-01-10 15:37:36</td>\n",
              "      <td>2023-01-10 15:46:05</td>\n",
              "      <td>00:08:29</td>\n",
              "      <td>3.0</td>\n",
              "    </tr>\n",
              "    <tr>\n",
              "      <th>2</th>\n",
              "      <td>BD88A2E670661CE5</td>\n",
              "      <td>electric_bike</td>\n",
              "      <td>2023-01-02 07:51:57</td>\n",
              "      <td>2023-01-02 08:05:11</td>\n",
              "      <td>Western Ave &amp; Lunt Ave</td>\n",
              "      <td>RP-005</td>\n",
              "      <td>Valli Produce - Evanston Plaza</td>\n",
              "      <td>599</td>\n",
              "      <td>42.008571</td>\n",
              "      <td>-87.690483</td>\n",
              "      <td>42.039742</td>\n",
              "      <td>-87.699413</td>\n",
              "      <td>casual</td>\n",
              "      <td>2023-01-02 07:51:57</td>\n",
              "      <td>2023-01-02 08:05:11</td>\n",
              "      <td>00:13:14</td>\n",
              "      <td>2.0</td>\n",
              "    </tr>\n",
              "    <tr>\n",
              "      <th>3</th>\n",
              "      <td>C90792D034FED968</td>\n",
              "      <td>classic_bike</td>\n",
              "      <td>2023-01-22 10:52:58</td>\n",
              "      <td>2023-01-22 11:01:44</td>\n",
              "      <td>Kimbark Ave &amp; 53rd St</td>\n",
              "      <td>TA1309000037</td>\n",
              "      <td>Greenwood Ave &amp; 47th St</td>\n",
              "      <td>TA1308000002</td>\n",
              "      <td>41.799568</td>\n",
              "      <td>-87.594747</td>\n",
              "      <td>41.809835</td>\n",
              "      <td>-87.599383</td>\n",
              "      <td>member</td>\n",
              "      <td>2023-01-22 10:52:58</td>\n",
              "      <td>2023-01-22 11:01:44</td>\n",
              "      <td>00:08:46</td>\n",
              "      <td>1.0</td>\n",
              "    </tr>\n",
              "    <tr>\n",
              "      <th>4</th>\n",
              "      <td>3397017529188E8A</td>\n",
              "      <td>classic_bike</td>\n",
              "      <td>2023-01-12 13:58:01</td>\n",
              "      <td>2023-01-12 14:13:20</td>\n",
              "      <td>Kimbark Ave &amp; 53rd St</td>\n",
              "      <td>TA1309000037</td>\n",
              "      <td>Greenwood Ave &amp; 47th St</td>\n",
              "      <td>TA1308000002</td>\n",
              "      <td>41.799568</td>\n",
              "      <td>-87.594747</td>\n",
              "      <td>41.809835</td>\n",
              "      <td>-87.599383</td>\n",
              "      <td>member</td>\n",
              "      <td>2023-01-12 13:58:01</td>\n",
              "      <td>2023-01-12 14:13:20</td>\n",
              "      <td>00:15:19</td>\n",
              "      <td>5.0</td>\n",
              "    </tr>\n",
              "  </tbody>\n",
              "</table>\n",
              "</div>\n",
              "      <button class=\"colab-df-convert\" onclick=\"convertToInteractive('df-cd617476-6689-45b2-9f05-252b52877c10')\"\n",
              "              title=\"Convert this dataframe to an interactive table.\"\n",
              "              style=\"display:none;\">\n",
              "        \n",
              "  <svg xmlns=\"http://www.w3.org/2000/svg\" height=\"24px\"viewBox=\"0 0 24 24\"\n",
              "       width=\"24px\">\n",
              "    <path d=\"M0 0h24v24H0V0z\" fill=\"none\"/>\n",
              "    <path d=\"M18.56 5.44l.94 2.06.94-2.06 2.06-.94-2.06-.94-.94-2.06-.94 2.06-2.06.94zm-11 1L8.5 8.5l.94-2.06 2.06-.94-2.06-.94L8.5 2.5l-.94 2.06-2.06.94zm10 10l.94 2.06.94-2.06 2.06-.94-2.06-.94-.94-2.06-.94 2.06-2.06.94z\"/><path d=\"M17.41 7.96l-1.37-1.37c-.4-.4-.92-.59-1.43-.59-.52 0-1.04.2-1.43.59L10.3 9.45l-7.72 7.72c-.78.78-.78 2.05 0 2.83L4 21.41c.39.39.9.59 1.41.59.51 0 1.02-.2 1.41-.59l7.78-7.78 2.81-2.81c.8-.78.8-2.07 0-2.86zM5.41 20L4 18.59l7.72-7.72 1.47 1.35L5.41 20z\"/>\n",
              "  </svg>\n",
              "      </button>\n",
              "      \n",
              "  <style>\n",
              "    .colab-df-container {\n",
              "      display:flex;\n",
              "      flex-wrap:wrap;\n",
              "      gap: 12px;\n",
              "    }\n",
              "\n",
              "    .colab-df-convert {\n",
              "      background-color: #E8F0FE;\n",
              "      border: none;\n",
              "      border-radius: 50%;\n",
              "      cursor: pointer;\n",
              "      display: none;\n",
              "      fill: #1967D2;\n",
              "      height: 32px;\n",
              "      padding: 0 0 0 0;\n",
              "      width: 32px;\n",
              "    }\n",
              "\n",
              "    .colab-df-convert:hover {\n",
              "      background-color: #E2EBFA;\n",
              "      box-shadow: 0px 1px 2px rgba(60, 64, 67, 0.3), 0px 1px 3px 1px rgba(60, 64, 67, 0.15);\n",
              "      fill: #174EA6;\n",
              "    }\n",
              "\n",
              "    [theme=dark] .colab-df-convert {\n",
              "      background-color: #3B4455;\n",
              "      fill: #D2E3FC;\n",
              "    }\n",
              "\n",
              "    [theme=dark] .colab-df-convert:hover {\n",
              "      background-color: #434B5C;\n",
              "      box-shadow: 0px 1px 3px 1px rgba(0, 0, 0, 0.15);\n",
              "      filter: drop-shadow(0px 1px 2px rgba(0, 0, 0, 0.3));\n",
              "      fill: #FFFFFF;\n",
              "    }\n",
              "  </style>\n",
              "\n",
              "      <script>\n",
              "        const buttonEl =\n",
              "          document.querySelector('#df-cd617476-6689-45b2-9f05-252b52877c10 button.colab-df-convert');\n",
              "        buttonEl.style.display =\n",
              "          google.colab.kernel.accessAllowed ? 'block' : 'none';\n",
              "\n",
              "        async function convertToInteractive(key) {\n",
              "          const element = document.querySelector('#df-cd617476-6689-45b2-9f05-252b52877c10');\n",
              "          const dataTable =\n",
              "            await google.colab.kernel.invokeFunction('convertToInteractive',\n",
              "                                                     [key], {});\n",
              "          if (!dataTable) return;\n",
              "\n",
              "          const docLinkHtml = 'Like what you see? Visit the ' +\n",
              "            '<a target=\"_blank\" href=https://colab.research.google.com/notebooks/data_table.ipynb>data table notebook</a>'\n",
              "            + ' to learn more about interactive tables.';\n",
              "          element.innerHTML = '';\n",
              "          dataTable['output_type'] = 'display_data';\n",
              "          await google.colab.output.renderOutput(dataTable, element);\n",
              "          const docLink = document.createElement('div');\n",
              "          docLink.innerHTML = docLinkHtml;\n",
              "          element.appendChild(docLink);\n",
              "        }\n",
              "      </script>\n",
              "    </div>\n",
              "  </div>\n",
              "  "
            ]
          },
          "metadata": {},
          "execution_count": 5
        }
      ]
    },
    {
      "cell_type": "code",
      "source": [
        "#remoing rows with null values\n",
        "df_comp=df.dropna()\n",
        "df_comp.count()"
      ],
      "metadata": {
        "colab": {
          "base_uri": "https://localhost:8080/"
        },
        "id": "z3y2kErZY97n",
        "outputId": "b1f8d836-0281-48b2-f828-6d271a776ba8"
      },
      "execution_count": null,
      "outputs": [
        {
          "output_type": "execute_result",
          "data": {
            "text/plain": [
              "ride_id               4140779\n",
              "rideable_type         4140779\n",
              "started_at            4140779\n",
              "ended_at              4140779\n",
              "start_station_name    4140779\n",
              "start_station_id      4140779\n",
              "end_station_name      4140779\n",
              "end_station_id        4140779\n",
              "start_lat             4140779\n",
              "start_lng             4140779\n",
              "end_lat               4140779\n",
              "end_lng               4140779\n",
              "member_casual         4140779\n",
              "Start_time            4140779\n",
              "End_Time              4140779\n",
              "Trip_Duration         4140779\n",
              "Day                   4140779\n",
              "dtype: int64"
            ]
          },
          "metadata": {},
          "execution_count": 6
        }
      ]
    },
    {
      "cell_type": "markdown",
      "source": [
        "Descriptive analysis"
      ],
      "metadata": {
        "id": "6MW0Qy8gVoGF"
      }
    },
    {
      "cell_type": "code",
      "source": [
        "# descriptive analysis \n",
        "round(df_comp.describe(),2)"
      ],
      "metadata": {
        "colab": {
          "base_uri": "https://localhost:8080/",
          "height": 300
        },
        "id": "9Sv7ng5fMwZZ",
        "outputId": "d8ab6a41-9132-47bb-b3e4-8fc92e9a9ad3"
      },
      "execution_count": null,
      "outputs": [
        {
          "output_type": "execute_result",
          "data": {
            "text/plain": [
              "        start_lat   start_lng     end_lat     end_lng         Day\n",
              "count  4140779.00  4140779.00  4140779.00  4140779.00  4140779.00\n",
              "mean        41.90      -87.64       41.90      -87.64        3.80\n",
              "std          0.04        0.02        0.04        0.02        2.29\n",
              "min         41.65      -87.83       41.65      -87.83       -0.00\n",
              "25%         41.88      -87.66       41.88      -87.66        2.00\n",
              "50%         41.90      -87.64       41.90      -87.64        4.00\n",
              "75%         41.93      -87.63       41.93      -87.63        6.00\n",
              "max         42.06      -87.53       42.07      -87.53       28.66"
            ],
            "text/html": [
              "\n",
              "  <div id=\"df-447c3e34-731e-4bd7-997e-8b422286eb39\">\n",
              "    <div class=\"colab-df-container\">\n",
              "      <div>\n",
              "<style scoped>\n",
              "    .dataframe tbody tr th:only-of-type {\n",
              "        vertical-align: middle;\n",
              "    }\n",
              "\n",
              "    .dataframe tbody tr th {\n",
              "        vertical-align: top;\n",
              "    }\n",
              "\n",
              "    .dataframe thead th {\n",
              "        text-align: right;\n",
              "    }\n",
              "</style>\n",
              "<table border=\"1\" class=\"dataframe\">\n",
              "  <thead>\n",
              "    <tr style=\"text-align: right;\">\n",
              "      <th></th>\n",
              "      <th>start_lat</th>\n",
              "      <th>start_lng</th>\n",
              "      <th>end_lat</th>\n",
              "      <th>end_lng</th>\n",
              "      <th>Day</th>\n",
              "    </tr>\n",
              "  </thead>\n",
              "  <tbody>\n",
              "    <tr>\n",
              "      <th>count</th>\n",
              "      <td>4140779.00</td>\n",
              "      <td>4140779.00</td>\n",
              "      <td>4140779.00</td>\n",
              "      <td>4140779.00</td>\n",
              "      <td>4140779.00</td>\n",
              "    </tr>\n",
              "    <tr>\n",
              "      <th>mean</th>\n",
              "      <td>41.90</td>\n",
              "      <td>-87.64</td>\n",
              "      <td>41.90</td>\n",
              "      <td>-87.64</td>\n",
              "      <td>3.80</td>\n",
              "    </tr>\n",
              "    <tr>\n",
              "      <th>std</th>\n",
              "      <td>0.04</td>\n",
              "      <td>0.02</td>\n",
              "      <td>0.04</td>\n",
              "      <td>0.02</td>\n",
              "      <td>2.29</td>\n",
              "    </tr>\n",
              "    <tr>\n",
              "      <th>min</th>\n",
              "      <td>41.65</td>\n",
              "      <td>-87.83</td>\n",
              "      <td>41.65</td>\n",
              "      <td>-87.83</td>\n",
              "      <td>-0.00</td>\n",
              "    </tr>\n",
              "    <tr>\n",
              "      <th>25%</th>\n",
              "      <td>41.88</td>\n",
              "      <td>-87.66</td>\n",
              "      <td>41.88</td>\n",
              "      <td>-87.66</td>\n",
              "      <td>2.00</td>\n",
              "    </tr>\n",
              "    <tr>\n",
              "      <th>50%</th>\n",
              "      <td>41.90</td>\n",
              "      <td>-87.64</td>\n",
              "      <td>41.90</td>\n",
              "      <td>-87.64</td>\n",
              "      <td>4.00</td>\n",
              "    </tr>\n",
              "    <tr>\n",
              "      <th>75%</th>\n",
              "      <td>41.93</td>\n",
              "      <td>-87.63</td>\n",
              "      <td>41.93</td>\n",
              "      <td>-87.63</td>\n",
              "      <td>6.00</td>\n",
              "    </tr>\n",
              "    <tr>\n",
              "      <th>max</th>\n",
              "      <td>42.06</td>\n",
              "      <td>-87.53</td>\n",
              "      <td>42.07</td>\n",
              "      <td>-87.53</td>\n",
              "      <td>28.66</td>\n",
              "    </tr>\n",
              "  </tbody>\n",
              "</table>\n",
              "</div>\n",
              "      <button class=\"colab-df-convert\" onclick=\"convertToInteractive('df-447c3e34-731e-4bd7-997e-8b422286eb39')\"\n",
              "              title=\"Convert this dataframe to an interactive table.\"\n",
              "              style=\"display:none;\">\n",
              "        \n",
              "  <svg xmlns=\"http://www.w3.org/2000/svg\" height=\"24px\"viewBox=\"0 0 24 24\"\n",
              "       width=\"24px\">\n",
              "    <path d=\"M0 0h24v24H0V0z\" fill=\"none\"/>\n",
              "    <path d=\"M18.56 5.44l.94 2.06.94-2.06 2.06-.94-2.06-.94-.94-2.06-.94 2.06-2.06.94zm-11 1L8.5 8.5l.94-2.06 2.06-.94-2.06-.94L8.5 2.5l-.94 2.06-2.06.94zm10 10l.94 2.06.94-2.06 2.06-.94-2.06-.94-.94-2.06-.94 2.06-2.06.94z\"/><path d=\"M17.41 7.96l-1.37-1.37c-.4-.4-.92-.59-1.43-.59-.52 0-1.04.2-1.43.59L10.3 9.45l-7.72 7.72c-.78.78-.78 2.05 0 2.83L4 21.41c.39.39.9.59 1.41.59.51 0 1.02-.2 1.41-.59l7.78-7.78 2.81-2.81c.8-.78.8-2.07 0-2.86zM5.41 20L4 18.59l7.72-7.72 1.47 1.35L5.41 20z\"/>\n",
              "  </svg>\n",
              "      </button>\n",
              "      \n",
              "  <style>\n",
              "    .colab-df-container {\n",
              "      display:flex;\n",
              "      flex-wrap:wrap;\n",
              "      gap: 12px;\n",
              "    }\n",
              "\n",
              "    .colab-df-convert {\n",
              "      background-color: #E8F0FE;\n",
              "      border: none;\n",
              "      border-radius: 50%;\n",
              "      cursor: pointer;\n",
              "      display: none;\n",
              "      fill: #1967D2;\n",
              "      height: 32px;\n",
              "      padding: 0 0 0 0;\n",
              "      width: 32px;\n",
              "    }\n",
              "\n",
              "    .colab-df-convert:hover {\n",
              "      background-color: #E2EBFA;\n",
              "      box-shadow: 0px 1px 2px rgba(60, 64, 67, 0.3), 0px 1px 3px 1px rgba(60, 64, 67, 0.15);\n",
              "      fill: #174EA6;\n",
              "    }\n",
              "\n",
              "    [theme=dark] .colab-df-convert {\n",
              "      background-color: #3B4455;\n",
              "      fill: #D2E3FC;\n",
              "    }\n",
              "\n",
              "    [theme=dark] .colab-df-convert:hover {\n",
              "      background-color: #434B5C;\n",
              "      box-shadow: 0px 1px 3px 1px rgba(0, 0, 0, 0.15);\n",
              "      filter: drop-shadow(0px 1px 2px rgba(0, 0, 0, 0.3));\n",
              "      fill: #FFFFFF;\n",
              "    }\n",
              "  </style>\n",
              "\n",
              "      <script>\n",
              "        const buttonEl =\n",
              "          document.querySelector('#df-447c3e34-731e-4bd7-997e-8b422286eb39 button.colab-df-convert');\n",
              "        buttonEl.style.display =\n",
              "          google.colab.kernel.accessAllowed ? 'block' : 'none';\n",
              "\n",
              "        async function convertToInteractive(key) {\n",
              "          const element = document.querySelector('#df-447c3e34-731e-4bd7-997e-8b422286eb39');\n",
              "          const dataTable =\n",
              "            await google.colab.kernel.invokeFunction('convertToInteractive',\n",
              "                                                     [key], {});\n",
              "          if (!dataTable) return;\n",
              "\n",
              "          const docLinkHtml = 'Like what you see? Visit the ' +\n",
              "            '<a target=\"_blank\" href=https://colab.research.google.com/notebooks/data_table.ipynb>data table notebook</a>'\n",
              "            + ' to learn more about interactive tables.';\n",
              "          element.innerHTML = '';\n",
              "          dataTable['output_type'] = 'display_data';\n",
              "          await google.colab.output.renderOutput(dataTable, element);\n",
              "          const docLink = document.createElement('div');\n",
              "          docLink.innerHTML = docLinkHtml;\n",
              "          element.appendChild(docLink);\n",
              "        }\n",
              "      </script>\n",
              "    </div>\n",
              "  </div>\n",
              "  "
            ]
          },
          "metadata": {},
          "execution_count": 7
        }
      ]
    },
    {
      "cell_type": "code",
      "source": [
        "#calculating trip duration in minutes\n",
        "df_comp.ended_at=df_comp.ended_at.astype(np.datetime64)\n",
        "df_comp.started_at=df_comp.started_at.astype(np.datetime64)\n",
        "df_comp.Trip_Duration = df_comp.ended_at - df_comp.started_at\n",
        "df_comp.Trip_Duration =df_comp.Trip_Duration.astype('timedelta64[m]')\n",
        "data_type=df_comp.dtypes\n",
        "print(data_type)"
      ],
      "metadata": {
        "colab": {
          "base_uri": "https://localhost:8080/"
        },
        "id": "nDWgOas3cJ57",
        "outputId": "62e358ee-093a-47bb-f3cc-072018403161"
      },
      "execution_count": null,
      "outputs": [
        {
          "output_type": "stream",
          "name": "stderr",
          "text": [
            "/usr/local/lib/python3.8/dist-packages/pandas/core/generic.py:5516: SettingWithCopyWarning: \n",
            "A value is trying to be set on a copy of a slice from a DataFrame.\n",
            "Try using .loc[row_indexer,col_indexer] = value instead\n",
            "\n",
            "See the caveats in the documentation: https://pandas.pydata.org/pandas-docs/stable/user_guide/indexing.html#returning-a-view-versus-a-copy\n",
            "  self[name] = value\n"
          ]
        },
        {
          "output_type": "stream",
          "name": "stdout",
          "text": [
            "ride_id                       object\n",
            "rideable_type                 object\n",
            "started_at            datetime64[ns]\n",
            "ended_at              datetime64[ns]\n",
            "start_station_name            object\n",
            "start_station_id              object\n",
            "end_station_name              object\n",
            "end_station_id                object\n",
            "start_lat                    float64\n",
            "start_lng                    float64\n",
            "end_lat                      float64\n",
            "end_lng                      float64\n",
            "member_casual                 object\n",
            "Start_time                    object\n",
            "End_Time                      object\n",
            "Trip_Duration                float64\n",
            "Day                          float64\n",
            "dtype: object\n"
          ]
        }
      ]
    },
    {
      "cell_type": "code",
      "source": [
        "#descriptive analysis on trip duration in minutes\n",
        "avg_trip = round(df_comp.Trip_Duration.describe(), 2)\n",
        "print(avg_trip)"
      ],
      "metadata": {
        "colab": {
          "base_uri": "https://localhost:8080/"
        },
        "id": "J4NXqhKkkL3w",
        "outputId": "187cf50f-7a9d-4064-bda6-dcbe5b2d992c"
      },
      "execution_count": null,
      "outputs": [
        {
          "output_type": "stream",
          "name": "stdout",
          "text": [
            "count    4140779.00\n",
            "mean          24.19\n",
            "std          213.53\n",
            "min        -3891.00\n",
            "25%            7.00\n",
            "50%           13.00\n",
            "75%           24.00\n",
            "max        54283.00\n",
            "Name: Trip_Duration, dtype: float64\n"
          ]
        }
      ]
    },
    {
      "cell_type": "code",
      "source": [
        "# removing rows with negative values in Trip_Duration column\n",
        "df_comp = df_comp[df_comp['Trip_Duration']> 0]\n"
      ],
      "metadata": {
        "id": "RzXLZGyyk2wr"
      },
      "execution_count": null,
      "outputs": []
    },
    {
      "cell_type": "code",
      "source": [
        "#descriptive analysis on trip duration in minutes\n",
        "avg_trip = round(df_comp.Trip_Duration.describe(), 2)\n",
        "print(avg_trip)"
      ],
      "metadata": {
        "colab": {
          "base_uri": "https://localhost:8080/"
        },
        "id": "NRRhI9iep4hQ",
        "outputId": "7bb86e50-18aa-494c-bc07-0c4c1c1353d7"
      },
      "execution_count": null,
      "outputs": [
        {
          "output_type": "stream",
          "name": "stdout",
          "text": [
            "count    4068423.00\n",
            "mean          24.62\n",
            "std          215.39\n",
            "min            1.00\n",
            "25%            7.00\n",
            "50%           13.00\n",
            "75%           24.00\n",
            "max        54283.00\n",
            "Name: Trip_Duration, dtype: float64\n"
          ]
        }
      ]
    },
    {
      "cell_type": "markdown",
      "source": [
        "On an average cyclist ride cycle for 24.62 minutes.\n",
        "\n",
        "Now calculating average trip based on member_casual column\n"
      ],
      "metadata": {
        "id": "S3x63Bxns43v"
      }
    },
    {
      "cell_type": "code",
      "source": [
        "#Descriptive analysis based on member_casual column\n",
        "avg_trip_drill = round(df_comp.Trip_Duration.groupby(df.member_casual).describe(), 2)\n",
        "print(avg_trip_drill)"
      ],
      "metadata": {
        "colab": {
          "base_uri": "https://localhost:8080/"
        },
        "id": "TOnUnQDvssjC",
        "outputId": "cdd24eca-297d-4fbb-f6b5-c06e896b8c58"
      },
      "execution_count": null,
      "outputs": [
        {
          "output_type": "stream",
          "name": "stdout",
          "text": [
            "                   count   mean     std  min   25%   50%   75%      max\n",
            "member_casual                                                          \n",
            "casual         1658747.0  39.54  328.57  1.0  10.0  19.0  36.0  54283.0\n",
            "member         2409676.0  14.36   61.25  1.0   6.0  10.0  18.0  41271.0\n"
          ]
        }
      ]
    },
    {
      "cell_type": "markdown",
      "source": [
        "Casual have higher average trip_duration then members.We are considering trip duration instead of calculating the distance based on longitude and latitutde as longitude and latitude gives displacement but not actual distance covered by cyclist. "
      ],
      "metadata": {
        "id": "UWy89Fw54hwN"
      }
    },
    {
      "cell_type": "code",
      "source": [
        "#Updating days column with day name\n",
        "df_comp.Day = df_comp['started_at'].dt.day_name()\n",
        "df_comp = df_comp.dropna()\n",
        "df_comp.head()"
      ],
      "metadata": {
        "colab": {
          "base_uri": "https://localhost:8080/",
          "height": 443
        },
        "id": "SN9hXLkX6E9Z",
        "outputId": "2fd9198a-36ed-4975-d9d4-71699a19de28"
      },
      "execution_count": null,
      "outputs": [
        {
          "output_type": "execute_result",
          "data": {
            "text/plain": [
              "            ride_id  rideable_type          started_at            ended_at  \\\n",
              "0  F96D5A74A3E41399  electric_bike 2023-01-21 20:05:42 2023-01-21 20:16:33   \n",
              "1  13CB7EB698CEDB88   classic_bike 2023-01-10 15:37:36 2023-01-10 15:46:05   \n",
              "2  BD88A2E670661CE5  electric_bike 2023-01-02 07:51:57 2023-01-02 08:05:11   \n",
              "3  C90792D034FED968   classic_bike 2023-01-22 10:52:58 2023-01-22 11:01:44   \n",
              "4  3397017529188E8A   classic_bike 2023-01-12 13:58:01 2023-01-12 14:13:20   \n",
              "\n",
              "            start_station_name start_station_id  \\\n",
              "0  Lincoln Ave & Fullerton Ave     TA1309000058   \n",
              "1        Kimbark Ave & 53rd St     TA1309000037   \n",
              "2       Western Ave & Lunt Ave           RP-005   \n",
              "3        Kimbark Ave & 53rd St     TA1309000037   \n",
              "4        Kimbark Ave & 53rd St     TA1309000037   \n",
              "\n",
              "                 end_station_name end_station_id  start_lat  start_lng  \\\n",
              "0       Hampden Ct & Diversey Ave       202480.0  41.924074 -87.646278   \n",
              "1         Greenwood Ave & 47th St   TA1308000002  41.799568 -87.594747   \n",
              "2  Valli Produce - Evanston Plaza            599  42.008571 -87.690483   \n",
              "3         Greenwood Ave & 47th St   TA1308000002  41.799568 -87.594747   \n",
              "4         Greenwood Ave & 47th St   TA1308000002  41.799568 -87.594747   \n",
              "\n",
              "     end_lat    end_lng member_casual           Start_time  \\\n",
              "0  41.930000 -87.640000        member  2023-01-21 20:05:42   \n",
              "1  41.809835 -87.599383        member  2023-01-10 15:37:36   \n",
              "2  42.039742 -87.699413        casual  2023-01-02 07:51:57   \n",
              "3  41.809835 -87.599383        member  2023-01-22 10:52:58   \n",
              "4  41.809835 -87.599383        member  2023-01-12 13:58:01   \n",
              "\n",
              "              End_Time  Trip_Duration       Day  \n",
              "0  2023-01-21 20:16:33           10.0  Saturday  \n",
              "1  2023-01-10 15:46:05            8.0   Tuesday  \n",
              "2  2023-01-02 08:05:11           13.0    Monday  \n",
              "3  2023-01-22 11:01:44            8.0    Sunday  \n",
              "4  2023-01-12 14:13:20           15.0  Thursday  "
            ],
            "text/html": [
              "\n",
              "  <div id=\"df-e43107ca-3957-4242-aeae-9799e8128f2e\">\n",
              "    <div class=\"colab-df-container\">\n",
              "      <div>\n",
              "<style scoped>\n",
              "    .dataframe tbody tr th:only-of-type {\n",
              "        vertical-align: middle;\n",
              "    }\n",
              "\n",
              "    .dataframe tbody tr th {\n",
              "        vertical-align: top;\n",
              "    }\n",
              "\n",
              "    .dataframe thead th {\n",
              "        text-align: right;\n",
              "    }\n",
              "</style>\n",
              "<table border=\"1\" class=\"dataframe\">\n",
              "  <thead>\n",
              "    <tr style=\"text-align: right;\">\n",
              "      <th></th>\n",
              "      <th>ride_id</th>\n",
              "      <th>rideable_type</th>\n",
              "      <th>started_at</th>\n",
              "      <th>ended_at</th>\n",
              "      <th>start_station_name</th>\n",
              "      <th>start_station_id</th>\n",
              "      <th>end_station_name</th>\n",
              "      <th>end_station_id</th>\n",
              "      <th>start_lat</th>\n",
              "      <th>start_lng</th>\n",
              "      <th>end_lat</th>\n",
              "      <th>end_lng</th>\n",
              "      <th>member_casual</th>\n",
              "      <th>Start_time</th>\n",
              "      <th>End_Time</th>\n",
              "      <th>Trip_Duration</th>\n",
              "      <th>Day</th>\n",
              "    </tr>\n",
              "  </thead>\n",
              "  <tbody>\n",
              "    <tr>\n",
              "      <th>0</th>\n",
              "      <td>F96D5A74A3E41399</td>\n",
              "      <td>electric_bike</td>\n",
              "      <td>2023-01-21 20:05:42</td>\n",
              "      <td>2023-01-21 20:16:33</td>\n",
              "      <td>Lincoln Ave &amp; Fullerton Ave</td>\n",
              "      <td>TA1309000058</td>\n",
              "      <td>Hampden Ct &amp; Diversey Ave</td>\n",
              "      <td>202480.0</td>\n",
              "      <td>41.924074</td>\n",
              "      <td>-87.646278</td>\n",
              "      <td>41.930000</td>\n",
              "      <td>-87.640000</td>\n",
              "      <td>member</td>\n",
              "      <td>2023-01-21 20:05:42</td>\n",
              "      <td>2023-01-21 20:16:33</td>\n",
              "      <td>10.0</td>\n",
              "      <td>Saturday</td>\n",
              "    </tr>\n",
              "    <tr>\n",
              "      <th>1</th>\n",
              "      <td>13CB7EB698CEDB88</td>\n",
              "      <td>classic_bike</td>\n",
              "      <td>2023-01-10 15:37:36</td>\n",
              "      <td>2023-01-10 15:46:05</td>\n",
              "      <td>Kimbark Ave &amp; 53rd St</td>\n",
              "      <td>TA1309000037</td>\n",
              "      <td>Greenwood Ave &amp; 47th St</td>\n",
              "      <td>TA1308000002</td>\n",
              "      <td>41.799568</td>\n",
              "      <td>-87.594747</td>\n",
              "      <td>41.809835</td>\n",
              "      <td>-87.599383</td>\n",
              "      <td>member</td>\n",
              "      <td>2023-01-10 15:37:36</td>\n",
              "      <td>2023-01-10 15:46:05</td>\n",
              "      <td>8.0</td>\n",
              "      <td>Tuesday</td>\n",
              "    </tr>\n",
              "    <tr>\n",
              "      <th>2</th>\n",
              "      <td>BD88A2E670661CE5</td>\n",
              "      <td>electric_bike</td>\n",
              "      <td>2023-01-02 07:51:57</td>\n",
              "      <td>2023-01-02 08:05:11</td>\n",
              "      <td>Western Ave &amp; Lunt Ave</td>\n",
              "      <td>RP-005</td>\n",
              "      <td>Valli Produce - Evanston Plaza</td>\n",
              "      <td>599</td>\n",
              "      <td>42.008571</td>\n",
              "      <td>-87.690483</td>\n",
              "      <td>42.039742</td>\n",
              "      <td>-87.699413</td>\n",
              "      <td>casual</td>\n",
              "      <td>2023-01-02 07:51:57</td>\n",
              "      <td>2023-01-02 08:05:11</td>\n",
              "      <td>13.0</td>\n",
              "      <td>Monday</td>\n",
              "    </tr>\n",
              "    <tr>\n",
              "      <th>3</th>\n",
              "      <td>C90792D034FED968</td>\n",
              "      <td>classic_bike</td>\n",
              "      <td>2023-01-22 10:52:58</td>\n",
              "      <td>2023-01-22 11:01:44</td>\n",
              "      <td>Kimbark Ave &amp; 53rd St</td>\n",
              "      <td>TA1309000037</td>\n",
              "      <td>Greenwood Ave &amp; 47th St</td>\n",
              "      <td>TA1308000002</td>\n",
              "      <td>41.799568</td>\n",
              "      <td>-87.594747</td>\n",
              "      <td>41.809835</td>\n",
              "      <td>-87.599383</td>\n",
              "      <td>member</td>\n",
              "      <td>2023-01-22 10:52:58</td>\n",
              "      <td>2023-01-22 11:01:44</td>\n",
              "      <td>8.0</td>\n",
              "      <td>Sunday</td>\n",
              "    </tr>\n",
              "    <tr>\n",
              "      <th>4</th>\n",
              "      <td>3397017529188E8A</td>\n",
              "      <td>classic_bike</td>\n",
              "      <td>2023-01-12 13:58:01</td>\n",
              "      <td>2023-01-12 14:13:20</td>\n",
              "      <td>Kimbark Ave &amp; 53rd St</td>\n",
              "      <td>TA1309000037</td>\n",
              "      <td>Greenwood Ave &amp; 47th St</td>\n",
              "      <td>TA1308000002</td>\n",
              "      <td>41.799568</td>\n",
              "      <td>-87.594747</td>\n",
              "      <td>41.809835</td>\n",
              "      <td>-87.599383</td>\n",
              "      <td>member</td>\n",
              "      <td>2023-01-12 13:58:01</td>\n",
              "      <td>2023-01-12 14:13:20</td>\n",
              "      <td>15.0</td>\n",
              "      <td>Thursday</td>\n",
              "    </tr>\n",
              "  </tbody>\n",
              "</table>\n",
              "</div>\n",
              "      <button class=\"colab-df-convert\" onclick=\"convertToInteractive('df-e43107ca-3957-4242-aeae-9799e8128f2e')\"\n",
              "              title=\"Convert this dataframe to an interactive table.\"\n",
              "              style=\"display:none;\">\n",
              "        \n",
              "  <svg xmlns=\"http://www.w3.org/2000/svg\" height=\"24px\"viewBox=\"0 0 24 24\"\n",
              "       width=\"24px\">\n",
              "    <path d=\"M0 0h24v24H0V0z\" fill=\"none\"/>\n",
              "    <path d=\"M18.56 5.44l.94 2.06.94-2.06 2.06-.94-2.06-.94-.94-2.06-.94 2.06-2.06.94zm-11 1L8.5 8.5l.94-2.06 2.06-.94-2.06-.94L8.5 2.5l-.94 2.06-2.06.94zm10 10l.94 2.06.94-2.06 2.06-.94-2.06-.94-.94-2.06-.94 2.06-2.06.94z\"/><path d=\"M17.41 7.96l-1.37-1.37c-.4-.4-.92-.59-1.43-.59-.52 0-1.04.2-1.43.59L10.3 9.45l-7.72 7.72c-.78.78-.78 2.05 0 2.83L4 21.41c.39.39.9.59 1.41.59.51 0 1.02-.2 1.41-.59l7.78-7.78 2.81-2.81c.8-.78.8-2.07 0-2.86zM5.41 20L4 18.59l7.72-7.72 1.47 1.35L5.41 20z\"/>\n",
              "  </svg>\n",
              "      </button>\n",
              "      \n",
              "  <style>\n",
              "    .colab-df-container {\n",
              "      display:flex;\n",
              "      flex-wrap:wrap;\n",
              "      gap: 12px;\n",
              "    }\n",
              "\n",
              "    .colab-df-convert {\n",
              "      background-color: #E8F0FE;\n",
              "      border: none;\n",
              "      border-radius: 50%;\n",
              "      cursor: pointer;\n",
              "      display: none;\n",
              "      fill: #1967D2;\n",
              "      height: 32px;\n",
              "      padding: 0 0 0 0;\n",
              "      width: 32px;\n",
              "    }\n",
              "\n",
              "    .colab-df-convert:hover {\n",
              "      background-color: #E2EBFA;\n",
              "      box-shadow: 0px 1px 2px rgba(60, 64, 67, 0.3), 0px 1px 3px 1px rgba(60, 64, 67, 0.15);\n",
              "      fill: #174EA6;\n",
              "    }\n",
              "\n",
              "    [theme=dark] .colab-df-convert {\n",
              "      background-color: #3B4455;\n",
              "      fill: #D2E3FC;\n",
              "    }\n",
              "\n",
              "    [theme=dark] .colab-df-convert:hover {\n",
              "      background-color: #434B5C;\n",
              "      box-shadow: 0px 1px 3px 1px rgba(0, 0, 0, 0.15);\n",
              "      filter: drop-shadow(0px 1px 2px rgba(0, 0, 0, 0.3));\n",
              "      fill: #FFFFFF;\n",
              "    }\n",
              "  </style>\n",
              "\n",
              "      <script>\n",
              "        const buttonEl =\n",
              "          document.querySelector('#df-e43107ca-3957-4242-aeae-9799e8128f2e button.colab-df-convert');\n",
              "        buttonEl.style.display =\n",
              "          google.colab.kernel.accessAllowed ? 'block' : 'none';\n",
              "\n",
              "        async function convertToInteractive(key) {\n",
              "          const element = document.querySelector('#df-e43107ca-3957-4242-aeae-9799e8128f2e');\n",
              "          const dataTable =\n",
              "            await google.colab.kernel.invokeFunction('convertToInteractive',\n",
              "                                                     [key], {});\n",
              "          if (!dataTable) return;\n",
              "\n",
              "          const docLinkHtml = 'Like what you see? Visit the ' +\n",
              "            '<a target=\"_blank\" href=https://colab.research.google.com/notebooks/data_table.ipynb>data table notebook</a>'\n",
              "            + ' to learn more about interactive tables.';\n",
              "          element.innerHTML = '';\n",
              "          dataTable['output_type'] = 'display_data';\n",
              "          await google.colab.output.renderOutput(dataTable, element);\n",
              "          const docLink = document.createElement('div');\n",
              "          docLink.innerHTML = docLinkHtml;\n",
              "          element.appendChild(docLink);\n",
              "        }\n",
              "      </script>\n",
              "    </div>\n",
              "  </div>\n",
              "  "
            ]
          },
          "metadata": {},
          "execution_count": 13
        }
      ]
    },
    {
      "cell_type": "code",
      "source": [
        "# Finding weekday-wise usage for cyclist\n",
        "daywise_drilldown = df_comp.groupby(['member_casual', 'Day']).Trip_Duration.sum()\n",
        "daywise_drilldown = daywise_drilldown.reset_index()\n",
        "print(daywise_drilldown)"
      ],
      "metadata": {
        "colab": {
          "base_uri": "https://localhost:8080/"
        },
        "id": "-Ree0swx3l0i",
        "outputId": "d561a640-d38f-4076-d3e6-d3c5a1b599ab"
      },
      "execution_count": null,
      "outputs": [
        {
          "output_type": "stream",
          "name": "stdout",
          "text": [
            "   member_casual        Day  Trip_Duration\n",
            "0         casual     Friday      8978682.0\n",
            "1         casual     Monday      7339986.0\n",
            "2         casual   Saturday     15844283.0\n",
            "3         casual     Sunday     13763869.0\n",
            "4         casual   Thursday      7473191.0\n",
            "5         casual    Tuesday      5766147.0\n",
            "6         casual  Wednesday      6420682.0\n",
            "7         member     Friday      4993411.0\n",
            "8         member     Monday      4554262.0\n",
            "9         member   Saturday      5801789.0\n",
            "10        member     Sunday      4928709.0\n",
            "11        member   Thursday      4937233.0\n",
            "12        member    Tuesday      4513875.0\n",
            "13        member  Wednesday      4864922.0\n"
          ]
        }
      ]
    },
    {
      "cell_type": "code",
      "source": [
        "#Ploting graph for trip duration based on week days\n",
        "fig, ax = plt.subplots(figsize=(15, 8))\n",
        "\n",
        "sb.barplot(x=\"Day\",\n",
        "           y=\"Trip_Duration\",\n",
        "           hue=\"member_casual\",\n",
        "           data=daywise_drilldown,\n",
        "           palette = \"autumn_r\")\n",
        "\n",
        "ax.set_xlabel(\"Days\", fontsize = 15)\n",
        "ax.set_ylabel(\"Total trip duration\", fontsize = 15)\n",
        "ax.set_title('Daily aggregation of trip duration', fontsize = 15)\n",
        "ax.yaxis.get_major_formatter().set_scientific(False)\n",
        "ax.yaxis.get_major_formatter().set_useOffset(False)\n",
        "\n",
        "plt.xticks(rotation=65)\n",
        "\n",
        "plt.show()"
      ],
      "metadata": {
        "colab": {
          "base_uri": "https://localhost:8080/",
          "height": 586
        },
        "id": "t84i83NcIGiN",
        "outputId": "1414f8d4-301b-408a-9bea-c81e93db75ae"
      },
      "execution_count": null,
      "outputs": [
        {
          "output_type": "display_data",
          "data": {
            "text/plain": [
              "<Figure size 1080x576 with 1 Axes>"
            ],
            "image/png": "[encoded data removed]"
          },
          "metadata": {
            "needs_background": "light"
          }
        }
      ]
    },
    {
      "cell_type": "markdown",
      "source": [
        "The comparison above shows that the members trip-duration is consistent though out the week. But casuals trip_duration significantly increases during weekends.\n"
      ],
      "metadata": {
        "id": "vS5Qb8iZW3mv"
      }
    },
    {
      "cell_type": "code",
      "source": [
        "#Creating new month, year and month+year column\n",
        "df_comp['month'] = df_comp['started_at'].dt.month_name()# + \" \" + \n",
        "df_comp['year'] = pd.DatetimeIndex(df_comp['started_at']).year\n",
        "df_comp['mon_yr'] = df_comp['month'] +\" \" + df_comp['year'].astype(str)\n",
        "df_comp['month_num'] = pd.DatetimeIndex(df_comp['started_at']).month\n",
        "df_comp = df_comp.sort_values(by='started_at')\n",
        "df_comp.head()"
      ],
      "metadata": {
        "colab": {
          "base_uri": "https://localhost:8080/",
          "height": 473
        },
        "id": "rGnLc7mXUNLu",
        "outputId": "c1602290-0e61-4ff4-dd4d-22ab8df29fc0"
      },
      "execution_count": null,
      "outputs": [
        {
          "output_type": "execute_result",
          "data": {
            "text/plain": [
              "                  ride_id rideable_type          started_at  \\\n",
              "4983893  7C754A74F043C1C3   docked_bike 2020-05-01 00:02:07   \n",
              "4888921  9BD98D6E5FBC7058   docked_bike 2020-05-01 00:04:44   \n",
              "5005899  11190B9379C30638   docked_bike 2020-05-01 00:05:50   \n",
              "4948389  3FEA7C1E9B5E505B   docked_bike 2020-05-01 00:07:13   \n",
              "4893173  E76405FC49708E37   docked_bike 2020-05-01 00:07:49   \n",
              "\n",
              "                   ended_at            start_station_name start_station_id  \\\n",
              "4983893 2020-05-01 00:20:54  Michigan Ave & Washington St               43   \n",
              "4888921 2020-05-01 00:15:54      Wilton Ave & Belmont Ave              117   \n",
              "5005899 2020-05-01 00:21:23    Damen Ave & Wellington Ave              162   \n",
              "4948389 2020-05-01 00:30:46        St. Clair St & Erie St              211   \n",
              "4893173 2020-05-01 00:13:03     Damen Ave & Sunnyside Ave              316   \n",
              "\n",
              "                       end_station_name end_station_id  start_lat  start_lng  \\\n",
              "4983893  Wentworth Ave & 24th St (Temp)          132.0    41.8840   -87.6247   \n",
              "4888921            Broadway & Barry Ave          300.0    41.9402   -87.6530   \n",
              "5005899           Dayton St & North Ave           60.0    41.9359   -87.6784   \n",
              "4948389          St. Clair St & Erie St          211.0    41.8944   -87.6227   \n",
              "4893173        Western Ave & Leland Ave          239.0    41.9633   -87.6793   \n",
              "\n",
              "         ...  end_lng  member_casual           Start_time  \\\n",
              "4983893  ... -87.6321         member  2020-05-01 00:02:07   \n",
              "4888921  ... -87.6441         casual  2020-05-01 00:04:44   \n",
              "5005899  ... -87.6494         casual  2020-05-01 00:05:50   \n",
              "4948389  ... -87.6227         casual  2020-05-01 00:07:13   \n",
              "4893173  ... -87.6884         casual  2020-05-01 00:07:49   \n",
              "\n",
              "                    End_Time Trip_Duration     Day month  year    mon_yr  \\\n",
              "4983893  2020-05-01 00:20:54          18.0  Friday   May  2020  May 2020   \n",
              "4888921  2020-05-01 00:15:54          11.0  Friday   May  2020  May 2020   \n",
              "5005899  2020-05-01 00:21:23          15.0  Friday   May  2020  May 2020   \n",
              "4948389  2020-05-01 00:30:46          23.0  Friday   May  2020  May 2020   \n",
              "4893173  2020-05-01 00:13:03           5.0  Friday   May  2020  May 2020   \n",
              "\n",
              "        month_num  \n",
              "4983893         5  \n",
              "4888921         5  \n",
              "5005899         5  \n",
              "4948389         5  \n",
              "4893173         5  \n",
              "\n",
              "[5 rows x 21 columns]"
            ],
            "text/html": [
              "\n",
              "  <div id=\"df-358c2211-eb8b-40a7-acfc-aefc5ec47b8f\">\n",
              "    <div class=\"colab-df-container\">\n",
              "      <div>\n",
              "<style scoped>\n",
              "    .dataframe tbody tr th:only-of-type {\n",
              "        vertical-align: middle;\n",
              "    }\n",
              "\n",
              "    .dataframe tbody tr th {\n",
              "        vertical-align: top;\n",
              "    }\n",
              "\n",
              "    .dataframe thead th {\n",
              "        text-align: right;\n",
              "    }\n",
              "</style>\n",
              "<table border=\"1\" class=\"dataframe\">\n",
              "  <thead>\n",
              "    <tr style=\"text-align: right;\">\n",
              "      <th></th>\n",
              "      <th>ride_id</th>\n",
              "      <th>rideable_type</th>\n",
              "      <th>started_at</th>\n",
              "      <th>ended_at</th>\n",
              "      <th>start_station_name</th>\n",
              "      <th>start_station_id</th>\n",
              "      <th>end_station_name</th>\n",
              "      <th>end_station_id</th>\n",
              "      <th>start_lat</th>\n",
              "      <th>start_lng</th>\n",
              "      <th>...</th>\n",
              "      <th>end_lng</th>\n",
              "      <th>member_casual</th>\n",
              "      <th>Start_time</th>\n",
              "      <th>End_Time</th>\n",
              "      <th>Trip_Duration</th>\n",
              "      <th>Day</th>\n",
              "      <th>month</th>\n",
              "      <th>year</th>\n",
              "      <th>mon_yr</th>\n",
              "      <th>month_num</th>\n",
              "    </tr>\n",
              "  </thead>\n",
              "  <tbody>\n",
              "    <tr>\n",
              "      <th>4983893</th>\n",
              "      <td>7C754A74F043C1C3</td>\n",
              "      <td>docked_bike</td>\n",
              "      <td>2020-05-01 00:02:07</td>\n",
              "      <td>2020-05-01 00:20:54</td>\n",
              "      <td>Michigan Ave &amp; Washington St</td>\n",
              "      <td>43</td>\n",
              "      <td>Wentworth Ave &amp; 24th St (Temp)</td>\n",
              "      <td>132.0</td>\n",
              "      <td>41.8840</td>\n",
              "      <td>-87.6247</td>\n",
              "      <td>...</td>\n",
              "      <td>-87.6321</td>\n",
              "      <td>member</td>\n",
              "      <td>2020-05-01 00:02:07</td>\n",
              "      <td>2020-05-01 00:20:54</td>\n",
              "      <td>18.0</td>\n",
              "      <td>Friday</td>\n",
              "      <td>May</td>\n",
              "      <td>2020</td>\n",
              "      <td>May 2020</td>\n",
              "      <td>5</td>\n",
              "    </tr>\n",
              "    <tr>\n",
              "      <th>4888921</th>\n",
              "      <td>9BD98D6E5FBC7058</td>\n",
              "      <td>docked_bike</td>\n",
              "      <td>2020-05-01 00:04:44</td>\n",
              "      <td>2020-05-01 00:15:54</td>\n",
              "      <td>Wilton Ave &amp; Belmont Ave</td>\n",
              "      <td>117</td>\n",
              "      <td>Broadway &amp; Barry Ave</td>\n",
              "      <td>300.0</td>\n",
              "      <td>41.9402</td>\n",
              "      <td>-87.6530</td>\n",
              "      <td>...</td>\n",
              "      <td>-87.6441</td>\n",
              "      <td>casual</td>\n",
              "      <td>2020-05-01 00:04:44</td>\n",
              "      <td>2020-05-01 00:15:54</td>\n",
              "      <td>11.0</td>\n",
              "      <td>Friday</td>\n",
              "      <td>May</td>\n",
              "      <td>2020</td>\n",
              "      <td>May 2020</td>\n",
              "      <td>5</td>\n",
              "    </tr>\n",
              "    <tr>\n",
              "      <th>5005899</th>\n",
              "      <td>11190B9379C30638</td>\n",
              "      <td>docked_bike</td>\n",
              "      <td>2020-05-01 00:05:50</td>\n",
              "      <td>2020-05-01 00:21:23</td>\n",
              "      <td>Damen Ave &amp; Wellington Ave</td>\n",
              "      <td>162</td>\n",
              "      <td>Dayton St &amp; North Ave</td>\n",
              "      <td>60.0</td>\n",
              "      <td>41.9359</td>\n",
              "      <td>-87.6784</td>\n",
              "      <td>...</td>\n",
              "      <td>-87.6494</td>\n",
              "      <td>casual</td>\n",
              "      <td>2020-05-01 00:05:50</td>\n",
              "      <td>2020-05-01 00:21:23</td>\n",
              "      <td>15.0</td>\n",
              "      <td>Friday</td>\n",
              "      <td>May</td>\n",
              "      <td>2020</td>\n",
              "      <td>May 2020</td>\n",
              "      <td>5</td>\n",
              "    </tr>\n",
              "    <tr>\n",
              "      <th>4948389</th>\n",
              "      <td>3FEA7C1E9B5E505B</td>\n",
              "      <td>docked_bike</td>\n",
              "      <td>2020-05-01 00:07:13</td>\n",
              "      <td>2020-05-01 00:30:46</td>\n",
              "      <td>St. Clair St &amp; Erie St</td>\n",
              "      <td>211</td>\n",
              "      <td>St. Clair St &amp; Erie St</td>\n",
              "      <td>211.0</td>\n",
              "      <td>41.8944</td>\n",
              "      <td>-87.6227</td>\n",
              "      <td>...</td>\n",
              "      <td>-87.6227</td>\n",
              "      <td>casual</td>\n",
              "      <td>2020-05-01 00:07:13</td>\n",
              "      <td>2020-05-01 00:30:46</td>\n",
              "      <td>23.0</td>\n",
              "      <td>Friday</td>\n",
              "      <td>May</td>\n",
              "      <td>2020</td>\n",
              "      <td>May 2020</td>\n",
              "      <td>5</td>\n",
              "    </tr>\n",
              "    <tr>\n",
              "      <th>4893173</th>\n",
              "      <td>E76405FC49708E37</td>\n",
              "      <td>docked_bike</td>\n",
              "      <td>2020-05-01 00:07:49</td>\n",
              "      <td>2020-05-01 00:13:03</td>\n",
              "      <td>Damen Ave &amp; Sunnyside Ave</td>\n",
              "      <td>316</td>\n",
              "      <td>Western Ave &amp; Leland Ave</td>\n",
              "      <td>239.0</td>\n",
              "      <td>41.9633</td>\n",
              "      <td>-87.6793</td>\n",
              "      <td>...</td>\n",
              "      <td>-87.6884</td>\n",
              "      <td>casual</td>\n",
              "      <td>2020-05-01 00:07:49</td>\n",
              "      <td>2020-05-01 00:13:03</td>\n",
              "      <td>5.0</td>\n",
              "      <td>Friday</td>\n",
              "      <td>May</td>\n",
              "      <td>2020</td>\n",
              "      <td>May 2020</td>\n",
              "      <td>5</td>\n",
              "    </tr>\n",
              "  </tbody>\n",
              "</table>\n",
              "<p>5 rows × 21 columns</p>\n",
              "</div>\n",
              "      <button class=\"colab-df-convert\" onclick=\"convertToInteractive('df-358c2211-eb8b-40a7-acfc-aefc5ec47b8f')\"\n",
              "              title=\"Convert this dataframe to an interactive table.\"\n",
              "              style=\"display:none;\">\n",
              "        \n",
              "  <svg xmlns=\"http://www.w3.org/2000/svg\" height=\"24px\"viewBox=\"0 0 24 24\"\n",
              "       width=\"24px\">\n",
              "    <path d=\"M0 0h24v24H0V0z\" fill=\"none\"/>\n",
              "    <path d=\"M18.56 5.44l.94 2.06.94-2.06 2.06-.94-2.06-.94-.94-2.06-.94 2.06-2.06.94zm-11 1L8.5 8.5l.94-2.06 2.06-.94-2.06-.94L8.5 2.5l-.94 2.06-2.06.94zm10 10l.94 2.06.94-2.06 2.06-.94-2.06-.94-.94-2.06-.94 2.06-2.06.94z\"/><path d=\"M17.41 7.96l-1.37-1.37c-.4-.4-.92-.59-1.43-.59-.52 0-1.04.2-1.43.59L10.3 9.45l-7.72 7.72c-.78.78-.78 2.05 0 2.83L4 21.41c.39.39.9.59 1.41.59.51 0 1.02-.2 1.41-.59l7.78-7.78 2.81-2.81c.8-.78.8-2.07 0-2.86zM5.41 20L4 18.59l7.72-7.72 1.47 1.35L5.41 20z\"/>\n",
              "  </svg>\n",
              "      </button>\n",
              "      \n",
              "  <style>\n",
              "    .colab-df-container {\n",
              "      display:flex;\n",
              "      flex-wrap:wrap;\n",
              "      gap: 12px;\n",
              "    }\n",
              "\n",
              "    .colab-df-convert {\n",
              "      background-color: #E8F0FE;\n",
              "      border: none;\n",
              "      border-radius: 50%;\n",
              "      cursor: pointer;\n",
              "      display: none;\n",
              "      fill: #1967D2;\n",
              "      height: 32px;\n",
              "      padding: 0 0 0 0;\n",
              "      width: 32px;\n",
              "    }\n",
              "\n",
              "    .colab-df-convert:hover {\n",
              "      background-color: #E2EBFA;\n",
              "      box-shadow: 0px 1px 2px rgba(60, 64, 67, 0.3), 0px 1px 3px 1px rgba(60, 64, 67, 0.15);\n",
              "      fill: #174EA6;\n",
              "    }\n",
              "\n",
              "    [theme=dark] .colab-df-convert {\n",
              "      background-color: #3B4455;\n",
              "      fill: #D2E3FC;\n",
              "    }\n",
              "\n",
              "    [theme=dark] .colab-df-convert:hover {\n",
              "      background-color: #434B5C;\n",
              "      box-shadow: 0px 1px 3px 1px rgba(0, 0, 0, 0.15);\n",
              "      filter: drop-shadow(0px 1px 2px rgba(0, 0, 0, 0.3));\n",
              "      fill: #FFFFFF;\n",
              "    }\n",
              "  </style>\n",
              "\n",
              "      <script>\n",
              "        const buttonEl =\n",
              "          document.querySelector('#df-358c2211-eb8b-40a7-acfc-aefc5ec47b8f button.colab-df-convert');\n",
              "        buttonEl.style.display =\n",
              "          google.colab.kernel.accessAllowed ? 'block' : 'none';\n",
              "\n",
              "        async function convertToInteractive(key) {\n",
              "          const element = document.querySelector('#df-358c2211-eb8b-40a7-acfc-aefc5ec47b8f');\n",
              "          const dataTable =\n",
              "            await google.colab.kernel.invokeFunction('convertToInteractive',\n",
              "                                                     [key], {});\n",
              "          if (!dataTable) return;\n",
              "\n",
              "          const docLinkHtml = 'Like what you see? Visit the ' +\n",
              "            '<a target=\"_blank\" href=https://colab.research.google.com/notebooks/data_table.ipynb>data table notebook</a>'\n",
              "            + ' to learn more about interactive tables.';\n",
              "          element.innerHTML = '';\n",
              "          dataTable['output_type'] = 'display_data';\n",
              "          await google.colab.output.renderOutput(dataTable, element);\n",
              "          const docLink = document.createElement('div');\n",
              "          docLink.innerHTML = docLinkHtml;\n",
              "          element.appendChild(docLink);\n",
              "        }\n",
              "      </script>\n",
              "    </div>\n",
              "  </div>\n",
              "  "
            ]
          },
          "metadata": {},
          "execution_count": 16
        }
      ]
    },
    {
      "cell_type": "code",
      "source": [
        "#montwise and yearwise distribution of trip duration\n",
        "monthwise_drilldown = df_comp.groupby(['member_casual', 'year', 'month_num','mon_yr']).Trip_Duration.sum()\n",
        "monthwise_drilldown = monthwise_drilldown.reset_index()\n",
        "print(monthwise_drilldown)\n"
      ],
      "metadata": {
        "colab": {
          "base_uri": "https://localhost:8080/"
        },
        "id": "uF309z5FWygC",
        "outputId": "d63cea60-0448-4a4e-e55e-3462a4edbd8a"
      },
      "execution_count": null,
      "outputs": [
        {
          "output_type": "stream",
          "name": "stdout",
          "text": [
            "   member_casual  year  month_num          mon_yr  Trip_Duration\n",
            "0         casual  2020          5        May 2020      4345050.0\n",
            "1         casual  2020          6       June 2020      7831115.0\n",
            "2         casual  2020          7       July 2020     15764177.0\n",
            "3         casual  2020          8     August 2020     12338354.0\n",
            "4         casual  2020          9  September 2020      8142855.0\n",
            "5         casual  2020         10    October 2020      3768672.0\n",
            "6         casual  2020         11   November 2020      2403242.0\n",
            "7         casual  2021         12   December 2021      1097821.0\n",
            "8         casual  2022          5        May 2022      5993968.0\n",
            "9         casual  2022         10    October 2022      3023289.0\n",
            "10        casual  2022         12   December 2022       452146.0\n",
            "11        casual  2023          1    January 2023       426151.0\n",
            "12        member  2020          5        May 2020      2159773.0\n",
            "13        member  2020          6       June 2020      3388705.0\n",
            "14        member  2020          7       July 2020      4792361.0\n",
            "15        member  2020          8     August 2020      5207497.0\n",
            "16        member  2020          9  September 2020      4193470.0\n",
            "17        member  2020         10    October 2020      2892904.0\n",
            "18        member  2020         11   November 2020      1938252.0\n",
            "19        member  2021         12   December 2021      1325004.0\n",
            "20        member  2022          5        May 2022      3616702.0\n",
            "21        member  2022         10    October 2022      2941113.0\n",
            "22        member  2022         12   December 2022      1009076.0\n",
            "23        member  2023          1    January 2023      1129344.0\n"
          ]
        }
      ]
    },
    {
      "cell_type": "code",
      "source": [
        "#graph for monthwise distribution\n",
        "fig, ax = plt.subplots(figsize=(15, 8))\n",
        "\n",
        "sb.barplot(x=\"mon_yr\",\n",
        "           y=\"Trip_Duration\",\n",
        "           hue=\"member_casual\",\n",
        "           data=monthwise_drilldown,\n",
        "           palette = \"autumn_r\")\n",
        "\n",
        "ax.set_xlabel(\"Months\", fontsize = 15)\n",
        "ax.set_ylabel(\"Total trip duration\", fontsize = 15)\n",
        "ax.set_title('Montly aggregation of trip duration', fontsize = 15)\n",
        "ax.yaxis.get_major_formatter().set_scientific(False)\n",
        "ax.yaxis.get_major_formatter().set_useOffset(False)\n",
        "plt.xticks(rotation=65)\n",
        "plt.show()\n"
      ],
      "metadata": {
        "colab": {
          "base_uri": "https://localhost:8080/",
          "height": 547
        },
        "id": "Hf7arXxFO3-M",
        "outputId": "ab363cd3-0aed-4f79-cb60-1546d777ed12"
      },
      "execution_count": null,
      "outputs": [
        {
          "output_type": "display_data",
          "data": {
            "text/plain": [
              "<Figure size 1080x576 with 1 Axes>"
            ],
            "image/png": "[encoded data removed]"
          },
          "metadata": {
            "needs_background": "light"
          }
        }
      ]
    },
    {
      "cell_type": "markdown",
      "source": [
        "We can clearly see that the cyclist demand is more during may, june, july, august compared to other months. The graph shows that the trip_duration of casual is greater than memebers.\n",
        "\n",
        "Also, dataset is missing data of some months. Which might corrupt the result of analysis.\n",
        "\n"
      ],
      "metadata": {
        "id": "OwVI2U_vMQSH"
      }
    },
    {
      "cell_type": "code",
      "source": [
        "#Aggrerating bike usage based on type\n",
        "type_drilldown = df_comp.groupby(['member_casual', 'rideable_type']).Trip_Duration.count()\n",
        "type_drilldown = type_drilldown.reset_index()\n",
        "print(type_drilldown)"
      ],
      "metadata": {
        "colab": {
          "base_uri": "https://localhost:8080/"
        },
        "id": "L5xkWAZgCyjs",
        "outputId": "f9bc7330-ed6c-4ce7-fb03-ad8418c1c896"
      },
      "execution_count": null,
      "outputs": [
        {
          "output_type": "stream",
          "name": "stdout",
          "text": [
            "  member_casual  rideable_type  Trip_Duration\n",
            "0        casual   classic_bike         229944\n",
            "1        casual    docked_bike        1101604\n",
            "2        casual  electric_bike         327199\n",
            "3        member   classic_bike         558974\n",
            "4        member    docked_bike        1341918\n",
            "5        member  electric_bike         508784\n"
          ]
        }
      ]
    },
    {
      "cell_type": "code",
      "source": [
        "#Ploting graph for bike based usage based on type\n",
        "fig, ax = plt.subplots(figsize=(13, 8))\n",
        "\n",
        "sb.barplot(x=\"rideable_type\",\n",
        "           y=\"Trip_Duration\",\n",
        "           hue=\"member_casual\",\n",
        "           data=type_drilldown,\n",
        "           palette = \"autumn_r\")\n",
        "\n",
        "ax.set_xlabel(\"Rideable type\", fontsize = 15)\n",
        "ax.set_ylabel(\"Number of memeber/casuals\", fontsize = 15)\n",
        "ax.set_title('Breakdown of rideable type', fontsize = 15)\n",
        "ax.yaxis.get_major_formatter().set_scientific(False)\n",
        "ax.yaxis.get_major_formatter().set_useOffset(False)\n",
        "plt.xticks(rotation=65)\n",
        "plt.show()"
      ],
      "metadata": {
        "colab": {
          "base_uri": "https://localhost:8080/",
          "height": 571
        },
        "id": "gUqKYhXLThuX",
        "outputId": "cb7181ba-b33c-4563-bcb8-2b413b6b90a2"
      },
      "execution_count": null,
      "outputs": [
        {
          "output_type": "display_data",
          "data": {
            "text/plain": [
              "<Figure size 936x576 with 1 Axes>"
            ],
            "image/png": "[encoded data removed]"
          },
          "metadata": {
            "needs_background": "light"
          }
        }
      ]
    },
    {
      "cell_type": "markdown",
      "source": [
        "Docker bike is most used bike by both casuals and members. Although total trip count of members is greater then casuals in all rideable types.\n"
      ],
      "metadata": {
        "id": "QWu9iGG-Hksg"
      }
    },
    {
      "cell_type": "code",
      "source": [
        "#most used start station by casuals\n",
        "start_station = df_comp[df_comp['member_casual']== 'casual'].groupby(['member_casual','start_station_name']).Trip_Duration.count().sort_values(ascending=False).nlargest(10)\n",
        "start_station = start_station.reset_index()\n",
        "print(start_station)"
      ],
      "metadata": {
        "colab": {
          "base_uri": "https://localhost:8080/"
        },
        "id": "S55nCy3eyQFx",
        "outputId": "b8c61874-138d-4c83-a9a4-200a9774c205"
      },
      "execution_count": null,
      "outputs": [
        {
          "output_type": "stream",
          "name": "stdout",
          "text": [
            "  member_casual          start_station_name  Trip_Duration\n",
            "0        casual     Streeter Dr & Grand Ave          36813\n",
            "1        casual             Millennium Park          23298\n",
            "2        casual       Michigan Ave & Oak St          17744\n",
            "3        casual   Lake Shore Dr & Monroe St          17686\n",
            "4        casual         Theater on the Lake          17413\n",
            "5        casual  Indiana Ave & Roosevelt Rd          15104\n",
            "6        casual              Shedd Aquarium          14039\n",
            "7        casual           Clark St & Elm St          13635\n",
            "8        casual      Michigan Ave & Lake St          13025\n",
            "9        casual       Wells St & Concord Ln          12807\n"
          ]
        }
      ]
    },
    {
      "cell_type": "code",
      "source": [
        "#most used start station by members\n",
        "start_station = df_comp[df_comp['member_casual']== 'member'].groupby(['member_casual','start_station_name']).Trip_Duration.count().sort_values(ascending=False).nlargest(10)\n",
        "start_station = start_station.reset_index()\n",
        "print(start_station)"
      ],
      "metadata": {
        "colab": {
          "base_uri": "https://localhost:8080/"
        },
        "id": "3uJZKUehFAwx",
        "outputId": "cb0fcaec-e701-4092-b190-a15529d3f351"
      },
      "execution_count": null,
      "outputs": [
        {
          "output_type": "stream",
          "name": "stdout",
          "text": [
            "  member_casual        start_station_name  Trip_Duration\n",
            "0        member         Clark St & Elm St          23049\n",
            "1        member  Kingsbury St & Kinzie St          18856\n",
            "2        member     Wells St & Concord Ln          18307\n",
            "3        member      Broadway & Barry Ave          17769\n",
            "4        member    St. Clair St & Erie St          17222\n",
            "5        member         Wells St & Elm St          16912\n",
            "6        member     Dearborn St & Erie St          16867\n",
            "7        member       Theater on the Lake          16249\n",
            "8        member       Wells St & Huron St          16176\n",
            "9        member   Clark St & Armitage Ave          15872\n"
          ]
        }
      ]
    },
    {
      "cell_type": "code",
      "source": [
        "#distribution of total rides booked \n",
        "percent_member = round(df_comp[df_comp['member_casual']== 'member'].count()*100/df_comp['member_casual'].count(),2)\n",
        "percent_casual = round(df_comp[df_comp['member_casual']== 'casual'].count()*100/df_comp['member_casual'].count(),2)\n",
        "print(\"Total rides:\" + str(df_comp['member_casual'].count()))\n",
        "print(\"Total rides done by casuals:\" + str(df_comp[df_comp['member_casual']== 'casual'].count()[1]))\n",
        "print(\"Total rides done by members:\" + str(df_comp[df_comp['member_casual']== 'member'].count()[1]))\n",
        "print(\"Percentage of rides done by causal:\" + str(percent_casual[1]))\n",
        "print(\"Percentage of rides done by member:\" + str(percent_member[1]))"
      ],
      "metadata": {
        "colab": {
          "base_uri": "https://localhost:8080/"
        },
        "id": "rQp8Vg_4FmTE",
        "outputId": "292d8289-6272-4f74-90fd-dcaef6798616"
      },
      "execution_count": null,
      "outputs": [
        {
          "output_type": "stream",
          "name": "stdout",
          "text": [
            "Total rides:4068423\n",
            "Total rides done by casuals:1658747\n",
            "Total rides done by members:2409676\n",
            "Percentage of rides done by causal:40.77\n",
            "Percentage of rides done by member:59.23\n"
          ]
        }
      ]
    },
    {
      "cell_type": "code",
      "source": [
        "#Division of trip_duration between casuals and members\n",
        "trip_member = round(df_comp.loc[df_comp['member_casual']== 'member', 'Trip_Duration'].sum()*100/df_comp['Trip_Duration'].sum(),2)\n",
        "trip_casual = round(df_comp.loc[df_comp['member_casual']== 'casual', 'Trip_Duration'].sum()*100/df_comp['Trip_Duration'].sum(),2)\n",
        "print(\"Total trip duration:\" + str(df_comp['Trip_Duration'].sum()))\n",
        "print(\"Total trip duration of casuals:\" + str(df_comp.loc[df_comp['member_casual']== 'casual', 'Trip_Duration'].sum()))\n",
        "print(\"Total trip duration of members:\" + str(df_comp.loc[df_comp['member_casual']== 'member', 'Trip_Duration'].sum()))\n",
        "print(\"Percentage of casual trip duration out of total trip duration:\" + str(trip_casual))\n",
        "print(\"Percentage of members trip duration out of total trip duration:\" + str(trip_member))\n"
      ],
      "metadata": {
        "colab": {
          "base_uri": "https://localhost:8080/"
        },
        "id": "5kBGUdz6Ie54",
        "outputId": "ea7dfd5c-3faa-4421-f5d8-1c1d35498fe2"
      },
      "execution_count": null,
      "outputs": [
        {
          "output_type": "stream",
          "name": "stdout",
          "text": [
            "Total trip duration:100181041.0\n",
            "Total trip duration of casuals:65586840.0\n",
            "Total trip duration of members:34594201.0\n",
            "Percentage of casual trip duration out of total trip duration:65.47\n",
            "Percentage of members trip duration out of total trip duration:34.53\n"
          ]
        }
      ]
    },
    {
      "cell_type": "code",
      "source": [
        "#Pie-chart data\n",
        "pie_duration_data = [trip_casual,trip_member]\n",
        "pie_count_data = [percent_casual[1], percent_member[1]]\n",
        "pie_key = [\"Casuals\", \"Members\"]\n",
        "explode = [0, 0.1]\n"
      ],
      "metadata": {
        "id": "T60dcfmfl57f"
      },
      "execution_count": null,
      "outputs": []
    },
    {
      "cell_type": "code",
      "source": [
        "#Plotting Pie chart to compare total ride and totaltrip duration\n",
        "palette_color = sb.color_palette('autumn_r')\n",
        "plt.title(\"Total trip duration distribution\",fontsize = 15)\n",
        "plt.pie(pie_duration_data, labels=pie_key, colors=palette_color, explode=explode, autopct='%.0f%%')\n",
        "plt.show()\n",
        "plt.title(\"Total ride distribution\",fontsize = 15)\n",
        "plt.pie(pie_count_data, labels=pie_key, colors=palette_color, explode=explode, autopct='%.0f%%')\n",
        "plt.show()"
      ],
      "metadata": {
        "colab": {
          "base_uri": "https://localhost:8080/",
          "height": 515
        },
        "id": "VixmzA-msu5u",
        "outputId": "b635e514-e489-4cd8-cfad-d0710f7d137a"
      },
      "execution_count": null,
      "outputs": [
        {
          "output_type": "display_data",
          "data": {
            "text/plain": [
              "<Figure size 432x288 with 1 Axes>"
            ],
            "image/png": "[encoded data removed]"
          },
          "metadata": {}
        },
        {
          "output_type": "display_data",
          "data": {
            "text/plain": [
              "<Figure size 432x288 with 1 Axes>"
            ],
            "image/png": "[encoded data removed]"
          },
          "metadata": {}
        }
      ]
    },
    {
      "cell_type": "markdown",
      "source": [
        "Member's make more trips than casual's but the total_trip duration of casual's is more than member's"
      ],
      "metadata": {
        "id": "Dza1BN5SWkXV"
      }
    },
    {
      "cell_type": "code",
      "source": [
        "df.to_csv(r'/content/drive/MyDrive/cyclist_dataset/cyclist_final_data.xlsx', index=False)\n"
      ],
      "metadata": {
        "id": "7PHGg0Y8sgX7"
      },
      "execution_count": null,
      "outputs": []
    },
    {
      "cell_type": "markdown",
      "source": [
        "Summary of analysis\n",
        "\n",
        "\n",
        "1. On average cyclist ride cycles for 24.62 minutes.\n",
        "2. Descriptive analysis based on member_casual column\n",
        "    https://colab.research.google.com/drive/1zGWvVnB53NVj3_g8FK_yt1AqwaV2XQHJ#scrollTo=TOnUnQDvssjC&line=2&uniqifier=1\n",
        "\n",
        "3. The member's trip duration is consistent though out the week. But casual’s trip_duration significantly increases during weekends.\n",
        "4. cyclist demand grows during May, June, July, and August compared to other months. The graph shows that the trip duration of casual is greater than member.\n",
        "Also, the dataset is missing data for some months. Which might corrupt the result of the analysis.\n",
        "5. Docker bike is the most used bike by both casuals and members. Although the total trip count of members is greater than casuals in all rideable types.\n",
        "6. Member’s make more trips than Casual's but the total_trip duration of casual's is more than member's.\n",
        "\n",
        "\n",
        "\n",
        "\n"
      ],
      "metadata": {
        "id": "doGoYg0Kj8Vx"
      }
    }
  ]
}